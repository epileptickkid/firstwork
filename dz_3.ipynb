{
 "cells": [
  {
   "cell_type": "code",
   "execution_count": null,
   "metadata": {},
   "outputs": [],
   "source": [
    "import tensorflow as tf\n",
    "import matplotlib.pyplot as plt\n",
    "import numpy as np\n",
    "#from keras.callbacks import History \n",
    "mnist = tf.keras.datasets.mnist"
   ]
  },
  {
   "cell_type": "code",
   "execution_count": null,
   "metadata": {},
   "outputs": [],
   "source": [
    "(x_train, y_train),(x_test, y_test) = mnist.load_data()\n",
    "x_train = x_train "
   ]
  },
  {
   "cell_type": "code",
   "execution_count": null,
   "metadata": {},
   "outputs": [],
   "source": [
    "#(x_train, y_train),(x_test, y_test) = mnist.load_data()\n",
    "#x_train = x_train /255.0"
   ]
  },
  {
   "cell_type": "code",
   "execution_count": null,
   "metadata": {},
   "outputs": [],
   "source": [
    "#x_test = x_test / 255."
   ]
  },
  {
   "cell_type": "code",
   "execution_count": null,
   "metadata": {},
   "outputs": [],
   "source": [
    "x_train=np.expand_dims(x_train,axis=3)\n"
   ]
  },
  {
   "cell_type": "code",
   "execution_count": null,
   "metadata": {},
   "outputs": [],
   "source": [
    "x_test=np.expand_dims(x_test,axis=3)"
   ]
  },
  {
   "cell_type": "code",
   "execution_count": null,
   "metadata": {},
   "outputs": [],
   "source": [
    "model = tf.keras.models.Sequential([\n",
    "    #with normalization\n",
    "    tf.keras.layers.Conv2D(32, kernel_size = (3,3), input_shape=x_train[0].shape, activation='relu'),\n",
    "    tf.keras.layers.Conv2D(32, kernel_size = (3,3), activation='relu'),\n",
    "    tf.keras.layers.MaxPool2D(pool_size=(2,2)),\n",
    "    tf.keras.layers.Dropout(0.2),\n",
    "    tf.keras.layers.Conv2D(64, kernel_size = (3,3), activation='relu', padding='same'),\n",
    "    tf.keras.layers.Conv2D(64, kernel_size = (3,3), activation='relu', padding='same'),\n",
    "    tf.keras.layers.MaxPool2D(pool_size=(2,2)),\n",
    "    tf.keras.layers.Dropout(0.25),\n",
    "    tf.keras.layers.Conv2D(128, kernel_size = (3,3), activation='relu', padding='same'),\n",
    "    tf.keras.layers.Dropout(0.25),\n",
    "    tf.keras.layers.Flatten(),\n",
    "    tf.keras.layers.Dense(128, activation=tf.nn.relu),\n",
    "    tf.keras.layers.BatchNormalization(),\n",
    "    tf.keras.layers.Dropout(0.25),\n",
    "    tf.keras.layers.Dense(10, activation=tf.nn.softmax), \n",
    "    \n",
    "])"
   ]
  },
  {
   "cell_type": "code",
   "execution_count": null,
   "metadata": {},
   "outputs": [],
   "source": [
    "from keras.callbacks import History \n",
    "hist = History()\n",
    "optimizer = tf.keras.optimizers.Adam(0.0001)\n",
    "model.compile(optimizer=optimizer,\n",
    "              loss=tf.keras.losses.sparse_categorical_crossentropy,\n",
    "              metrics=['accuracy'])\n",
    "hist=model.fit(x_train, y_train, epochs=5, validation_split=0.5, class_weight={0.3,0.4,0.3})\n",
    "#model.save('trained_model_for_recognizing_images .h5')"
   ]
  },
  {
   "cell_type": "code",
   "execution_count": null,
   "metadata": {},
   "outputs": [],
   "source": [
    "plt.plot(hist.history['acc'])\n",
    "plt.plot(hist.history['val_acc'])\n",
    "plt.title('Accuracy')\n",
    "plt.xlabel('Epoch')\n",
    "plt.ylabel('Accuracy')\n",
    "plt.legend(['train', 'validation'], loc='lower right')\n",
    "plt.show()\n",
    "\n",
    "plt.plot(hist.history['loss'])\n",
    "plt.plot(hist.history['val_loss'])\n",
    "plt.title('loss')\n",
    "plt.xlabel('Epoch')\n",
    "plt.ylabel('loss')\n",
    "plt.legend(['train', 'validation'], loc='lower right')\n",
    "plt.show()"
   ]
  },
  {
   "cell_type": "code",
   "execution_count": null,
   "metadata": {},
   "outputs": [],
   "source": [
    "model = tf.keras.models.Sequential([\n",
    "    #broken \n",
    "    tf.keras.layers.Conv2D(32, kernel_size = (3,3), input_shape=x_train[0].shape, activation='relu'),\n",
    "    tf.keras.layers.Conv2D(32, kernel_size = (3,3), activation='relu'),\n",
    "    tf.keras.layers.MaxPool2D(pool_size=(2,2)),\n",
    "    #tf.keras.layers.Dropout(0.2),\n",
    "    tf.keras.layers.Conv2D(64, kernel_size = (3,3), activation='relu', padding='same'),\n",
    "    tf.keras.layers.Conv2D(64, kernel_size = (3,3), activation='relu', padding='same'),\n",
    "    tf.keras.layers.MaxPool2D(pool_size=(2,2)),\n",
    "    #tf.keras.layers.Dropout(0.25),\n",
    "    tf.keras.layers.Conv2D(128, kernel_size = (3,3), activation='relu', padding='same'),\n",
    "    #tf.keras.layers.Dropout(0.25),\n",
    "    tf.keras.layers.Flatten(),\n",
    "    tf.keras.layers.Dense(1280, activation=tf.nn.relu),\n",
    "    tf.keras.layers.Dense(1280, activation=tf.nn.relu),\n",
    "    tf.keras.layers.Dense(1280, activation=tf.nn.relu),\n",
    "    tf.keras.layers.Dense(1280, activation=tf.nn.relu),\n",
    "    tf.keras.layers.Dense(1280, activation=tf.nn.relu),\n",
    "    tf.keras.layers.Dense(1280, activation=tf.nn.relu),\n",
    "    tf.keras.layers.BatchNormalization(),\n",
    "    #tf.keras.layers.Dropout(0.25),\n",
    "    tf.keras.layers.Dense(10, activation=tf.nn.softmax), \n",
    "    \n",
    "])"
   ]
  },
  {
   "cell_type": "code",
   "execution_count": null,
   "metadata": {
    "scrolled": false
   },
   "outputs": [],
   "source": [
    "#for broken\n",
    "\n",
    "optimizer = tf.keras.optimizers.Adam(0.0001)\n",
    "model.compile(optimizer=optimizer,\n",
    "              loss=tf.keras.losses.sparse_categorical_crossentropy,\n",
    "              metrics=['accuracy'])\n",
    "hist_broken = model.fit(x_train, y_train, epochs=50, validation_split=0.5)"
   ]
  },
  {
   "cell_type": "code",
   "execution_count": null,
   "metadata": {},
   "outputs": [],
   "source": [
    "loss, acc = model.evaluate(x_test, y_test)"
   ]
  },
  {
   "cell_type": "code",
   "execution_count": null,
   "metadata": {
    "scrolled": false
   },
   "outputs": [],
   "source": [
    "plt.plot(hist_broken.history['acc'])\n",
    "plt.plot(hist_broken.history['val_acc'])\n",
    "plt.title('Accuracy for broken network')\n",
    "plt.xlabel('Epoch')\n",
    "plt.ylabel('Accuracy')\n",
    "plt.legend(['train', 'validation'], loc='lower right')\n",
    "plt.show()\n",
    "\n",
    "plt.plot(hist_broken.history['loss'])\n",
    "plt.plot(hist_broken.history['val_loss'])\n",
    "plt.title('loss for broken network')\n",
    "plt.xlabel('Epoch')\n",
    "plt.ylabel('loss')\n",
    "plt.legend(['train', 'validation'], loc='lower right')\n",
    "plt.show()"
   ]
  },
  {
   "cell_type": "code",
   "execution_count": null,
   "metadata": {},
   "outputs": [],
   "source": [
    "#model = tf.keras.models.Sequential([\n",
    "    #Whith out normalization\n",
    "   # tf.keras.layers.Flatten(input_shape=(28, 28)),\n",
    "   # tf.keras.layers.Dense(100, activation=tf.nn.relu),\n",
    "   # tf.keras.layers.Dense(100, activation=tf.nn.relu),\n",
    "    #tf.keras.layers.Dropout(0.2),\n",
    "    #tf.keras.layers.Dense(10, activation=tf.nn.softmax), \n",
    "    \n",
    "#])"
   ]
  },
  {
   "cell_type": "code",
   "execution_count": null,
   "metadata": {},
   "outputs": [],
   "source": [
    "model =  tf.keras.models.load_model('trained_model_for_recognizing_images .h5')\n",
    "loss, acc = model.evaluate(x_test, y_test)\n",
    "#model.save('trained_model.h1')"
   ]
  },
  {
   "cell_type": "code",
   "execution_count": null,
   "metadata": {
    "scrolled": false
   },
   "outputs": [],
   "source": [
    "    model =  tf.keras.models.load_model('trained_model_for_recognizing_images .h5')\n",
    "    test_im=x_train[1488]\n",
    "    layer_number = 7\n",
    "    layer_outputs=[layer.output for layer in model.layers[:8]]\n",
    "    activation_model=tf.keras.models.Model(inputs=model.input, outputs=layer_outputs)\n",
    "    activations=activation_model.predict(test_im.reshape(1,28,28,1))\n",
    "    counter = 0\n",
    "    \n",
    "    for i in range (layer_number):\n",
    "        counter = 0\n",
    "        print(\"Layer:\", format(i+1))\n",
    "        first_layer_activation=activations[i]\n",
    "        for j in range(4):\n",
    "            fig=plt.figure(figsize=(60,60))\n",
    "            for k in range(8):\n",
    "                fig.add_subplot(4,32,counter+1)                \n",
    "                plt.imshow(first_layer_activation[0,:,:,counter], cmap='inferno')\n",
    "                counter=counter+1\n",
    "            plt.show()"
   ]
  },
  {
   "cell_type": "code",
   "execution_count": null,
   "metadata": {},
   "outputs": [],
   "source": [
    "def display_digit(num):\n",
    "    label = y_test[num]\n",
    "    image = x_test[num]\n",
    "    image = image.reshape(28, 28)\n",
    "    plt.title('Example: {}  Label: {}'.format(num, label))\n",
    "    plt.imshow(image, cmap=plt.get_cmap('gray_r'))\n",
    "    plt.show()"
   ]
  },
  {
   "cell_type": "code",
   "execution_count": null,
   "metadata": {},
   "outputs": [],
   "source": [
    "display_digit(0)"
   ]
  },
  {
   "cell_type": "code",
   "execution_count": null,
   "metadata": {},
   "outputs": [],
   "source": [
    "#model =  tf.keras.models.load_model('trained_model_for_recognizing_images .h5')\n",
    "def pred(pre):\n",
    "    predictions = model.predict(x_test[pre:pre+1,:,:])\n",
    "    print(\"predictions:\",predictions)\n",
    "    #print(y_test[pre])\n",
    "    #image = x_test[pre]\n",
    "    print(\"Estimated:\",y_train[pre])\n",
    "    image = x_train[pre]\n",
    "    image = image.reshape(28, 28)\n",
    "    plt.imshow(image, cmap=plt.get_cmap('gray_r'))\n",
    "    plt.show()"
   ]
  },
  {
   "cell_type": "code",
   "execution_count": null,
   "metadata": {},
   "outputs": [],
   "source": [
    "#model =  tf.keras.models.load_model('trained_model_for_recognizing_images .h5')\n",
    "def loss(number, loss_number):\n",
    "    dir(tf.keras.losses)\n",
    "    sess = tf.compat.v1.Session()\n",
    "    for i in range (number):\n",
    "        real =y_train[i]\n",
    "        guess=model.predict(x_train[i:i+1,:,:])\n",
    "        \n",
    "        guess_sm=tf.nn.softmax(guess)       \n",
    "        g = guess_sm.eval(session=sess)\n",
    "        \n",
    "        g_loss = tf.keras.losses.sparse_categorical_crossentropy(real, guess_sm)   \n",
    "        l=g_loss.eval(session=sess)\n",
    "        if ((i%100 == 0) and (i!=0)):\n",
    "            print(i, \"Have passed\")\n",
    "        if(l>loss_number):\n",
    "            print(\"number:\",i,\"loss:\",l)\n",
    "            pred(i)\n",
    "    sess.close()\n",
    "\n",
    "    "
   ]
  },
  {
   "cell_type": "code",
   "execution_count": null,
   "metadata": {
    "scrolled": false
   },
   "outputs": [],
   "source": [
    "loss(3000,2)"
   ]
  },
  {
   "cell_type": "code",
   "execution_count": null,
   "metadata": {},
   "outputs": [],
   "source": [
    "loss, acc = model.evaluate(x_test, y_test)\n",
    "print(\"Loss = {}, accuracy = {}\".format(loss, acc))"
   ]
  }
 ],
 "metadata": {
  "kernelspec": {
   "display_name": "Python 3",
   "language": "python",
   "name": "python3"
  },
  "language_info": {
   "codemirror_mode": {
    "name": "ipython",
    "version": 3
   },
   "file_extension": ".py",
   "mimetype": "text/x-python",
   "name": "python",
   "nbconvert_exporter": "python",
   "pygments_lexer": "ipython3",
   "version": "3.6.9"
  }
 },
 "nbformat": 4,
 "nbformat_minor": 2
}
